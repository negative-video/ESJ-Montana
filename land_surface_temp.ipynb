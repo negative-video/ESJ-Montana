{
 "cells": [
  {
   "cell_type": "markdown",
   "metadata": {},
   "source": [
    "# Land Surface Temperature Calculation\n",
    "The purpose of this script is to aggregate, average, and track surface temperature across each county in the state of Montana.\n",
    "\n",
    "The data used for this script can be obtained through NASA EarthData using the [Giovanni](https://disc-beta.gsfc.nasa.gov/giovanni/) tool.\n",
    "\n",
    "Create a NASA EarthData account if you don't already have one. Log into Giovanni with these credentials. Close any prompt that has popped up.\n",
    "\n",
    "Ensure \"Select Plot\" is set to `Time Averaged Map` and set the date range from `2000-01-01` to `2020-12-31`. \n",
    "\n",
    "In \"Select Region (Bounding Box or Shape)\", click on the map icon, then the \"Select a Shape\" dropdown menu. Type `Montana` in the text box and select the result. Click the white \"X\" at the top-right of the window to close.\n",
    "\n",
    "In the \"Keyword\" field, type `Surface temperature` and then click the \"Search\" button. The top result should be \"Temperature (average surface skin) (NNLDAS_NOAH0125_M v2.0)\". Look to the following columns to ensure the result you access has units \"K\", has temporal resolution \"Monthly\", and spatial resolution \"0.125\". After finding the proper result, click on the checkbox in the leftmost column before the \"Temperature (average surface skin)\" name.\n",
    "\n",
    "At the bottom-right corner of the web browser, click the \"Plot Data\" button. Giovanni will load. This might take some time if other users are generating data at the same time as you. When it is your turn, the progress bar will slowly fill and text will flash showing the current task Giovanni is processing."
   ]
  },
  {
   "cell_type": "code",
   "execution_count": null,
   "metadata": {},
   "outputs": [],
   "source": [
    "# Import necessary libraries\n",
    "import os\n",
    "import rasterio\n",
    "import numpy as np\n",
    "import geopandas as gpd\n",
    "import pandas as pd"
   ]
  },
  {
   "cell_type": "code",
   "execution_count": null,
   "metadata": {},
   "outputs": [],
   "source": [
    "# Where are the files located? -- MUST be within \"UMD-DataScience folder\"\n",
    "input_data = 'landsurfacetemp'\n",
    "\n",
    "# Friendly name for the value we are processing - used for naming table\n",
    "key_metric = 'AvgSurfT' \n",
    "\n",
    "# The boundaries of Montana and each county\n",
    "county_shp = 'montana_shp/cb_2014_us_county_20m_Montana.shp'\n",
    "\n",
    "# Make generic name to allow script to be used more generally\n",
    "folder_path = input_data"
   ]
  },
  {
   "cell_type": "code",
   "execution_count": null,
   "metadata": {},
   "outputs": [],
   "source": [
    "# Initialize an empty dictionary to store the results for each year\n",
    "results = {}\n",
    "\n",
    "# Load the shapefile\n",
    "counties = gpd.read_file(county_shp)\n",
    "\n",
    "# Loop through the files in the folder and calculate the average land surface temperature for each county for each year\n",
    "for file_name in os.listdir(folder_path):\n",
    "    if file_name.endswith('.tif'):\n",
    "        file_path = os.path.join(folder_path, file_name)\n",
    "        # Complicated Giovanni naming scheme - getting year from filename\n",
    "        year = file_name.split('.')[3][-8:] # This leaves, for example, '20000101'\n",
    "        year = year[2:4] # Cuts rest out so '00' remains\n",
    "\n",
    "        # Open the GeoTIFF file\n",
    "        with rasterio.open(file_path) as src:\n",
    "            # Read the data as a numpy array\n",
    "            lst_array = src.read(1)\n",
    "            # Replace NaN values with an absurd value to distinguish\n",
    "            lst_array = np.nan_to_num(lst_array, nan=-9999)\n",
    "            # Get the CRS\n",
    "            transform = src.transform\n",
    "            crs = src.crs\n",
    "\n",
    "            # Reproject the shapefile to match the GeoTIFF CRS\n",
    "            counties_proj = counties.to_crs(crs)\n",
    "\n",
    "            # Extract the mean land surface temperature by county\n",
    "            lst_by_county = []\n",
    "            for i, county in counties_proj.iterrows():\n",
    "                # Create a mask for the county\n",
    "                county_mask = rasterio.features.geometry_mask([county.geometry],\n",
    "                                                               out_shape=lst_array.shape,\n",
    "                                                               transform=transform,\n",
    "                                                               invert=True)\n",
    "                # Extract the land surface temperature values for the county\n",
    "                lst = lst_array[county_mask]\n",
    "                # Remove the invalid values (-9999 in this case)\n",
    "                lst = lst[lst != -9999]\n",
    "                # Calculate the mean land surface temperature and round to 2 decimal places\n",
    "                mean_lst = round(np.mean(lst), 2)\n",
    "                # Append the results to a list\n",
    "                lst_by_county.append({'NAME': county['NAME'],\n",
    "                                      'GEOID': county['GEOID'],\n",
    "                                      'GEOMETRY': county['geometry'],\n",
    "                                      key_metric + f'_{year}': mean_lst})\n",
    "\n",
    "        # Convert the list to a pandas dataframe\n",
    "        df = pd.DataFrame(lst_by_county)\n",
    "\n",
    "        # Append the dataframe to the results dictionary\n",
    "        if year in results:\n",
    "            # Merge the dataframe with the existing dataframe for this year\n",
    "            df = df.rename(columns={col: f\"{col}_{year}\" for col in df.columns if col not in [\"NAME\", \"GEOID\", \"GEOMETRY\"]})\n",
    "            results[year] = pd.merge(results[year], df.drop([\"NAME\", \"GEOID\", \"GEOMETRY\"], axis=1), on=\"GEOID\")\n",
    "        else:\n",
    "            # Add the dataframe as a new entry in the dictionary\n",
    "            results[year] = df\n",
    "\n",
    "# Concatenate the dataframes for all years into a single dataframe\n",
    "df_all_years = pd.concat([results[year] for year in results], axis=1)\n",
    "\n",
    "# Drop duplicate columns\n",
    "df_all_years = df_all_years.loc[:,~df_all_years.columns.duplicated()]\n",
    "\n",
    "# Re-order years to be in increasing order\n",
    "df_all_years = df_all_years.reindex(sorted(df_all_years.columns), axis=1)\n",
    "mean_lst_cols = sorted([col for col in df_all_years.columns if col.startswith(key_metric)])\n",
    "df_all_years = df_all_years[[\"NAME\", \"GEOID\", \"GEOMETRY\"] + mean_lst_cols]"
   ]
  },
  {
   "cell_type": "code",
   "execution_count": null,
   "metadata": {},
   "outputs": [],
   "source": [
    "# Display output of processing as a sanity check\n",
    "df_all_years"
   ]
  },
  {
   "cell_type": "code",
   "execution_count": null,
   "metadata": {},
   "outputs": [],
   "source": [
    "# Once happy with the above results, save the data to a file for compilation\n",
    "df_all_years.to_csv(input_data + '.csv', index=True)"
   ]
  }
 ],
 "metadata": {
  "kernelspec": {
   "display_name": "Python 3",
   "language": "python",
   "name": "python3"
  },
  "language_info": {
   "name": "python",
   "version": "3.11.4"
  },
  "orig_nbformat": 4
 },
 "nbformat": 4,
 "nbformat_minor": 2
}
